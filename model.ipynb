{
 "cells": [
  {
   "cell_type": "markdown",
   "id": "6cd48047",
   "metadata": {},
   "source": [
    "# Data Preprocessing"
   ]
  },
  {
   "cell_type": "code",
   "execution_count": 1,
   "id": "32cd575d",
   "metadata": {},
   "outputs": [],
   "source": [
    "import tensorflow as tf\n",
    "from keras.preprocessing.image import ImageDataGenerator"
   ]
  },
  {
   "cell_type": "code",
   "execution_count": 2,
   "id": "3701a45c",
   "metadata": {},
   "outputs": [
    {
     "name": "stdout",
     "output_type": "stream",
     "text": [
      "Found 8000 images belonging to 2 classes.\n"
     ]
    }
   ],
   "source": [
    "train_datagen=ImageDataGenerator(rescale=1/255,shear_range=0.2, zoom_range=0.2,horizontal_flip=True)\n",
    "training_set=train_datagen.flow_from_directory(\"dataset/training_set\",target_size=(64,64), batch_size=32,class_mode=\"binary\")"
   ]
  },
  {
   "cell_type": "code",
   "execution_count": 3,
   "id": "dd364ffc",
   "metadata": {},
   "outputs": [
    {
     "name": "stdout",
     "output_type": "stream",
     "text": [
      "Found 2000 images belonging to 2 classes.\n"
     ]
    }
   ],
   "source": [
    "test_datagen=ImageDataGenerator(rescale=1/255)\n",
    "test_set=test_datagen.flow_from_directory(\"dataset/test_set\",target_size=(64,64), batch_size=32, class_mode=\"binary\")"
   ]
  },
  {
   "cell_type": "markdown",
   "id": "79702cba",
   "metadata": {},
   "source": [
    "# Building CNN"
   ]
  },
  {
   "cell_type": "markdown",
   "id": "182353e4",
   "metadata": {},
   "source": [
    "Initializing CNN"
   ]
  },
  {
   "cell_type": "code",
   "execution_count": 4,
   "id": "6dc30f7b",
   "metadata": {},
   "outputs": [],
   "source": [
    "cnn=tf.keras.models.Sequential()"
   ]
  },
  {
   "cell_type": "markdown",
   "id": "3c06ae26",
   "metadata": {},
   "source": [
    "Convolution"
   ]
  },
  {
   "cell_type": "code",
   "execution_count": 5,
   "id": "11f1f3a5",
   "metadata": {},
   "outputs": [],
   "source": [
    "cnn.add(tf.keras.layers.Conv2D(filters=32, kernel_size=3, activation=\"relu\", input_shape=(64,64,3)))"
   ]
  },
  {
   "cell_type": "markdown",
   "id": "ef574cc6",
   "metadata": {},
   "source": [
    "Pooling"
   ]
  },
  {
   "cell_type": "code",
   "execution_count": 6,
   "id": "651aad2e",
   "metadata": {},
   "outputs": [],
   "source": [
    "cnn.add(tf.keras.layers.MaxPool2D(pool_size=2, strides=2))"
   ]
  },
  {
   "cell_type": "markdown",
   "id": "1f7ada35",
   "metadata": {},
   "source": [
    "Adding a second convolutional layer"
   ]
  },
  {
   "cell_type": "code",
   "execution_count": 7,
   "id": "8cd3bcf9",
   "metadata": {},
   "outputs": [],
   "source": [
    "cnn.add(tf.keras.layers.Conv2D(filters=32, kernel_size=3, activation=\"relu\"))\n",
    "cnn.add(tf.keras.layers.MaxPool2D(pool_size=2, strides=2))"
   ]
  },
  {
   "cell_type": "markdown",
   "id": "e373d58b",
   "metadata": {},
   "source": [
    "Flattening"
   ]
  },
  {
   "cell_type": "code",
   "execution_count": 8,
   "id": "79a046bb",
   "metadata": {},
   "outputs": [],
   "source": [
    "cnn.add(tf.keras.layers.Flatten())"
   ]
  },
  {
   "cell_type": "markdown",
   "id": "457a6b5a",
   "metadata": {},
   "source": [
    "Full Connection"
   ]
  },
  {
   "cell_type": "code",
   "execution_count": 9,
   "id": "979a53c7",
   "metadata": {},
   "outputs": [],
   "source": [
    "cnn.add(tf.keras.layers.Dense(units=128, activation=\"relu\"))"
   ]
  },
  {
   "cell_type": "markdown",
   "id": "1d89c89a",
   "metadata": {},
   "source": [
    "Output layer"
   ]
  },
  {
   "cell_type": "code",
   "execution_count": 10,
   "id": "27baf0f7",
   "metadata": {},
   "outputs": [],
   "source": [
    "cnn.add(tf.keras.layers.Dense(units=1, activation=\"sigmoid\"))"
   ]
  },
  {
   "cell_type": "markdown",
   "id": "d66d7163",
   "metadata": {},
   "source": [
    "# Training CNN"
   ]
  },
  {
   "cell_type": "markdown",
   "id": "b3b34298",
   "metadata": {},
   "source": [
    "Compiling CNN"
   ]
  },
  {
   "cell_type": "code",
   "execution_count": 11,
   "id": "daa19e42",
   "metadata": {},
   "outputs": [],
   "source": [
    "cnn.compile(optimizer=\"adam\", loss=\"binary_crossentropy\", metrics=[\"accuracy\"])"
   ]
  },
  {
   "cell_type": "markdown",
   "id": "0afe4cfe",
   "metadata": {},
   "source": [
    "Training CNN"
   ]
  },
  {
   "cell_type": "code",
   "execution_count": 12,
   "id": "a88b7ce5",
   "metadata": {},
   "outputs": [
    {
     "name": "stdout",
     "output_type": "stream",
     "text": [
      "Epoch 1/25\n",
      "250/250 [==============================] - 312s 1s/step - loss: 0.6629 - accuracy: 0.5913 - val_loss: 0.6571 - val_accuracy: 0.6005\n",
      "Epoch 2/25\n",
      "250/250 [==============================] - 122s 488ms/step - loss: 0.5858 - accuracy: 0.6911 - val_loss: 0.5461 - val_accuracy: 0.7280\n",
      "Epoch 3/25\n",
      "250/250 [==============================] - 94s 375ms/step - loss: 0.5491 - accuracy: 0.7211 - val_loss: 0.5386 - val_accuracy: 0.7350\n",
      "Epoch 4/25\n",
      "250/250 [==============================] - 102s 407ms/step - loss: 0.5286 - accuracy: 0.7287 - val_loss: 0.5377 - val_accuracy: 0.7380\n",
      "Epoch 5/25\n",
      "250/250 [==============================] - 102s 409ms/step - loss: 0.4997 - accuracy: 0.7545 - val_loss: 0.4861 - val_accuracy: 0.7720\n",
      "Epoch 6/25\n",
      "250/250 [==============================] - 92s 369ms/step - loss: 0.4804 - accuracy: 0.7642 - val_loss: 0.4865 - val_accuracy: 0.7660\n",
      "Epoch 7/25\n",
      "250/250 [==============================] - 89s 356ms/step - loss: 0.4667 - accuracy: 0.7731 - val_loss: 0.5105 - val_accuracy: 0.7550\n",
      "Epoch 8/25\n",
      "250/250 [==============================] - 68s 271ms/step - loss: 0.4561 - accuracy: 0.7824 - val_loss: 0.5006 - val_accuracy: 0.7695\n",
      "Epoch 9/25\n",
      "250/250 [==============================] - 57s 227ms/step - loss: 0.4372 - accuracy: 0.7976 - val_loss: 0.4772 - val_accuracy: 0.7820\n",
      "Epoch 10/25\n",
      "250/250 [==============================] - 67s 268ms/step - loss: 0.4265 - accuracy: 0.7976 - val_loss: 0.4914 - val_accuracy: 0.7720\n",
      "Epoch 11/25\n",
      "250/250 [==============================] - 69s 276ms/step - loss: 0.4122 - accuracy: 0.8081 - val_loss: 0.5021 - val_accuracy: 0.7895\n",
      "Epoch 12/25\n",
      "250/250 [==============================] - 62s 246ms/step - loss: 0.3941 - accuracy: 0.8213 - val_loss: 0.5123 - val_accuracy: 0.7700\n",
      "Epoch 13/25\n",
      "250/250 [==============================] - 71s 283ms/step - loss: 0.3888 - accuracy: 0.8231 - val_loss: 0.5213 - val_accuracy: 0.7690\n",
      "Epoch 14/25\n",
      "250/250 [==============================] - 60s 239ms/step - loss: 0.3757 - accuracy: 0.8264 - val_loss: 0.5378 - val_accuracy: 0.7665\n",
      "Epoch 15/25\n",
      "250/250 [==============================] - 67s 270ms/step - loss: 0.3690 - accuracy: 0.8354 - val_loss: 0.4889 - val_accuracy: 0.7960\n",
      "Epoch 16/25\n",
      "250/250 [==============================] - 57s 228ms/step - loss: 0.3498 - accuracy: 0.8418 - val_loss: 0.4799 - val_accuracy: 0.7935\n",
      "Epoch 17/25\n",
      "250/250 [==============================] - 64s 254ms/step - loss: 0.3456 - accuracy: 0.8479 - val_loss: 0.5334 - val_accuracy: 0.7795\n",
      "Epoch 18/25\n",
      "250/250 [==============================] - 51s 204ms/step - loss: 0.3361 - accuracy: 0.8528 - val_loss: 0.4879 - val_accuracy: 0.7990\n",
      "Epoch 19/25\n",
      "250/250 [==============================] - 51s 203ms/step - loss: 0.3205 - accuracy: 0.8586 - val_loss: 0.5193 - val_accuracy: 0.7935\n",
      "Epoch 20/25\n",
      "250/250 [==============================] - 53s 212ms/step - loss: 0.3055 - accuracy: 0.8696 - val_loss: 0.5601 - val_accuracy: 0.7835\n",
      "Epoch 21/25\n",
      "250/250 [==============================] - 51s 205ms/step - loss: 0.2923 - accuracy: 0.8733 - val_loss: 0.5029 - val_accuracy: 0.7975\n",
      "Epoch 22/25\n",
      "250/250 [==============================] - 51s 202ms/step - loss: 0.2784 - accuracy: 0.8814 - val_loss: 0.5136 - val_accuracy: 0.7905\n",
      "Epoch 23/25\n",
      "250/250 [==============================] - 53s 211ms/step - loss: 0.2711 - accuracy: 0.8829 - val_loss: 0.5651 - val_accuracy: 0.7935\n",
      "Epoch 24/25\n",
      "250/250 [==============================] - 54s 216ms/step - loss: 0.2678 - accuracy: 0.8867 - val_loss: 0.5038 - val_accuracy: 0.8060\n",
      "Epoch 25/25\n",
      "250/250 [==============================] - 52s 206ms/step - loss: 0.2497 - accuracy: 0.8953 - val_loss: 0.5278 - val_accuracy: 0.7965\n"
     ]
    },
    {
     "data": {
      "text/plain": [
       "<keras.callbacks.History at 0x25373bb6b90>"
      ]
     },
     "execution_count": 12,
     "metadata": {},
     "output_type": "execute_result"
    }
   ],
   "source": [
    "cnn.fit(x=training_set, validation_data =test_set, epochs=25)"
   ]
  },
  {
   "cell_type": "markdown",
   "id": "64236c21",
   "metadata": {},
   "source": [
    "# Single Prediction"
   ]
  },
  {
   "cell_type": "code",
   "execution_count": 13,
   "id": "93b33b7e",
   "metadata": {},
   "outputs": [
    {
     "ename": "AttributeError",
     "evalue": "module 'keras.preprocessing.image' has no attribute 'load_img'",
     "output_type": "error",
     "traceback": [
      "\u001b[1;31m---------------------------------------------------------------------------\u001b[0m",
      "\u001b[1;31mAttributeError\u001b[0m                            Traceback (most recent call last)",
      "Input \u001b[1;32mIn [13]\u001b[0m, in \u001b[0;36m<cell line: 3>\u001b[1;34m()\u001b[0m\n\u001b[0;32m      1\u001b[0m \u001b[38;5;28;01mimport\u001b[39;00m \u001b[38;5;21;01mnumpy\u001b[39;00m \u001b[38;5;28;01mas\u001b[39;00m \u001b[38;5;21;01mnp\u001b[39;00m\n\u001b[0;32m      2\u001b[0m \u001b[38;5;28;01mfrom\u001b[39;00m \u001b[38;5;21;01mkeras\u001b[39;00m\u001b[38;5;21;01m.\u001b[39;00m\u001b[38;5;21;01mpreprocessing\u001b[39;00m \u001b[38;5;28;01mimport\u001b[39;00m image\n\u001b[1;32m----> 3\u001b[0m test_image\u001b[38;5;241m=\u001b[39m\u001b[43mimage\u001b[49m\u001b[38;5;241;43m.\u001b[39;49m\u001b[43mload_img\u001b[49m(\u001b[38;5;124m\"\u001b[39m\u001b[38;5;124mdataset/single_prediction/dog_image.jpg\u001b[39m\u001b[38;5;124m\"\u001b[39m,target_size\u001b[38;5;241m=\u001b[39m(\u001b[38;5;241m64\u001b[39m,\u001b[38;5;241m64\u001b[39m))\n\u001b[0;32m      4\u001b[0m test_image\u001b[38;5;241m=\u001b[39mimage\u001b[38;5;241m.\u001b[39mimg_to_array(test_image)\n\u001b[0;32m      5\u001b[0m test_image\u001b[38;5;241m=\u001b[39mnp\u001b[38;5;241m.\u001b[39mexpand_dims(test_image, axis\u001b[38;5;241m=\u001b[39m\u001b[38;5;241m0\u001b[39m)\n",
      "\u001b[1;31mAttributeError\u001b[0m: module 'keras.preprocessing.image' has no attribute 'load_img'"
     ]
    }
   ],
   "source": [
    "import numpy as np\n",
    "from keras.preprocessing import image\n",
    "test_image=image.load_img(\"dataset/single_prediction/dog_image.jpg\",target_size=(64,64))\n",
    "test_image=image.img_to_array(test_image)\n",
    "test_image=np.expand_dims(test_image, axis=0)\n",
    "result=cnn.predict(test_image)\n",
    "training_set.class_indices\n",
    "if result[0][0]==1:\n",
    "    prediction=\"Dog\"\n",
    "else:\n",
    "    prediction=\"Cat\"\n"
   ]
  },
  {
   "cell_type": "code",
   "execution_count": null,
   "id": "a02fb02e",
   "metadata": {},
   "outputs": [],
   "source": [
    "print(prediction)"
   ]
  }
 ],
 "metadata": {
  "kernelspec": {
   "display_name": "Python 3 (ipykernel)",
   "language": "python",
   "name": "python3"
  },
  "language_info": {
   "codemirror_mode": {
    "name": "ipython",
    "version": 3
   },
   "file_extension": ".py",
   "mimetype": "text/x-python",
   "name": "python",
   "nbconvert_exporter": "python",
   "pygments_lexer": "ipython3",
   "version": "3.10.5"
  }
 },
 "nbformat": 4,
 "nbformat_minor": 5
}
