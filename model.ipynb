{
 "cells": [
  {
   "cell_type": "markdown",
   "id": "6cd48047",
   "metadata": {},
   "source": [
    "# Data Preprocessing"
   ]
  },
  {
   "cell_type": "code",
   "execution_count": 1,
   "id": "32cd575d",
   "metadata": {},
   "outputs": [],
   "source": [
    "import tensorflow as tf\n",
    "from keras.preprocessing.image import ImageDataGenerator"
   ]
  },
  {
   "cell_type": "code",
   "execution_count": 2,
   "id": "3701a45c",
   "metadata": {},
   "outputs": [
    {
     "name": "stdout",
     "output_type": "stream",
     "text": [
      "Found 8000 images belonging to 2 classes.\n"
     ]
    }
   ],
   "source": [
    "train_datagen=ImageDataGenerator(rescale=1/255,shear_range=0.2, zoom_range=0.2,horizontal_flip=True)\n",
    "training_set=train_datagen.flow_from_directory(\"dataset/training_set\",target_size=(64,64), batch_size=32,class_mode=\"binary\")"
   ]
  },
  {
   "cell_type": "code",
   "execution_count": 3,
   "id": "dd364ffc",
   "metadata": {},
   "outputs": [
    {
     "name": "stdout",
     "output_type": "stream",
     "text": [
      "Found 2000 images belonging to 2 classes.\n"
     ]
    }
   ],
   "source": [
    "test_datagen=ImageDataGenerator(rescale=1/255)\n",
    "test_set=test_datagen.flow_from_directory(\"dataset/test_set\",target_size=(64,64), batch_size=32, class_mode=\"binary\")"
   ]
  },
  {
   "cell_type": "markdown",
   "id": "79702cba",
   "metadata": {},
   "source": [
    "# Building CNN"
   ]
  },
  {
   "cell_type": "markdown",
   "id": "182353e4",
   "metadata": {},
   "source": [
    "Initializing CNN"
   ]
  },
  {
   "cell_type": "code",
   "execution_count": 4,
   "id": "6dc30f7b",
   "metadata": {},
   "outputs": [],
   "source": [
    "cnn=tf.keras.models.Sequential()"
   ]
  },
  {
   "cell_type": "markdown",
   "id": "3c06ae26",
   "metadata": {},
   "source": [
    "Convolution"
   ]
  },
  {
   "cell_type": "code",
   "execution_count": 5,
   "id": "11f1f3a5",
   "metadata": {},
   "outputs": [],
   "source": [
    "cnn.add(tf.keras.layers.Conv2D(filters=32, kernel_size=3, activation=\"relu\", input_shape=(64,64,3)))"
   ]
  },
  {
   "cell_type": "markdown",
   "id": "ef574cc6",
   "metadata": {},
   "source": [
    "Pooling"
   ]
  },
  {
   "cell_type": "code",
   "execution_count": 6,
   "id": "651aad2e",
   "metadata": {},
   "outputs": [],
   "source": [
    "cnn.add(tf.keras.layers.MaxPool2D(pool_size=2, strides=2))"
   ]
  },
  {
   "cell_type": "markdown",
   "id": "1f7ada35",
   "metadata": {},
   "source": [
    "Adding a second convolutional layer"
   ]
  },
  {
   "cell_type": "code",
   "execution_count": 7,
   "id": "8cd3bcf9",
   "metadata": {},
   "outputs": [],
   "source": [
    "cnn.add(tf.keras.layers.Conv2D(filters=32, kernel_size=3, activation=\"relu\"))\n",
    "cnn.add(tf.keras.layers.MaxPool2D(pool_size=2, strides=2))"
   ]
  },
  {
   "cell_type": "markdown",
   "id": "e373d58b",
   "metadata": {},
   "source": [
    "Flattening"
   ]
  },
  {
   "cell_type": "code",
   "execution_count": 8,
   "id": "79a046bb",
   "metadata": {},
   "outputs": [],
   "source": [
    "cnn.add(tf.keras.layers.Flatten())"
   ]
  },
  {
   "cell_type": "markdown",
   "id": "457a6b5a",
   "metadata": {},
   "source": [
    "Full Connection"
   ]
  },
  {
   "cell_type": "code",
   "execution_count": 9,
   "id": "979a53c7",
   "metadata": {},
   "outputs": [],
   "source": [
    "cnn.add(tf.keras.layers.Dense(units=128, activation=\"relu\"))"
   ]
  },
  {
   "cell_type": "markdown",
   "id": "1d89c89a",
   "metadata": {},
   "source": [
    "Output layer"
   ]
  },
  {
   "cell_type": "code",
   "execution_count": 10,
   "id": "27baf0f7",
   "metadata": {},
   "outputs": [],
   "source": [
    "cnn.add(tf.keras.layers.Dense(units=1, activation=\"sigmoid\"))"
   ]
  },
  {
   "cell_type": "markdown",
   "id": "d66d7163",
   "metadata": {},
   "source": [
    "# Training CNN"
   ]
  },
  {
   "cell_type": "markdown",
   "id": "b3b34298",
   "metadata": {},
   "source": [
    "Compiling CNN"
   ]
  },
  {
   "cell_type": "code",
   "execution_count": 11,
   "id": "daa19e42",
   "metadata": {},
   "outputs": [],
   "source": [
    "cnn.compile(optimizer=\"adam\", loss=\"binary_crossentropy\", metrics=[\"accuracy\"])"
   ]
  },
  {
   "cell_type": "markdown",
   "id": "0afe4cfe",
   "metadata": {},
   "source": [
    "Training CNN"
   ]
  },
  {
   "cell_type": "code",
   "execution_count": 12,
   "id": "a88b7ce5",
   "metadata": {},
   "outputs": [
    {
     "name": "stdout",
     "output_type": "stream",
     "text": [
      "Epoch 1/25\n",
      "250/250 [==============================] - 101s 388ms/step - loss: 0.6620 - accuracy: 0.6015 - val_loss: 0.6107 - val_accuracy: 0.6925\n",
      "Epoch 2/25\n",
      "250/250 [==============================] - 113s 453ms/step - loss: 0.5934 - accuracy: 0.6779 - val_loss: 0.5575 - val_accuracy: 0.7260\n",
      "Epoch 3/25\n",
      "250/250 [==============================] - 93s 374ms/step - loss: 0.5603 - accuracy: 0.7089 - val_loss: 0.5987 - val_accuracy: 0.6875\n",
      "Epoch 4/25\n",
      "250/250 [==============================] - 91s 362ms/step - loss: 0.5320 - accuracy: 0.7360 - val_loss: 0.5268 - val_accuracy: 0.7385\n",
      "Epoch 5/25\n",
      "250/250 [==============================] - 90s 360ms/step - loss: 0.5185 - accuracy: 0.7431 - val_loss: 0.5390 - val_accuracy: 0.7285\n",
      "Epoch 6/25\n",
      "250/250 [==============================] - 86s 343ms/step - loss: 0.4932 - accuracy: 0.7611 - val_loss: 0.4957 - val_accuracy: 0.7605\n",
      "Epoch 7/25\n",
      "250/250 [==============================] - 86s 346ms/step - loss: 0.4833 - accuracy: 0.7661 - val_loss: 0.5277 - val_accuracy: 0.7510\n",
      "Epoch 8/25\n",
      "250/250 [==============================] - 86s 343ms/step - loss: 0.4713 - accuracy: 0.7742 - val_loss: 0.4892 - val_accuracy: 0.7715\n",
      "Epoch 9/25\n",
      "250/250 [==============================] - 86s 343ms/step - loss: 0.4523 - accuracy: 0.7874 - val_loss: 0.4942 - val_accuracy: 0.7685\n",
      "Epoch 10/25\n",
      "250/250 [==============================] - 86s 343ms/step - loss: 0.4467 - accuracy: 0.7903 - val_loss: 0.4831 - val_accuracy: 0.7710\n",
      "Epoch 11/25\n",
      "250/250 [==============================] - 89s 357ms/step - loss: 0.4276 - accuracy: 0.8019 - val_loss: 0.4690 - val_accuracy: 0.7865\n",
      "Epoch 12/25\n",
      "250/250 [==============================] - 105s 422ms/step - loss: 0.4153 - accuracy: 0.8117 - val_loss: 0.4679 - val_accuracy: 0.7985\n",
      "Epoch 13/25\n",
      "250/250 [==============================] - 88s 352ms/step - loss: 0.4108 - accuracy: 0.8083 - val_loss: 0.5972 - val_accuracy: 0.7260\n",
      "Epoch 14/25\n",
      "250/250 [==============================] - 87s 349ms/step - loss: 0.3928 - accuracy: 0.8174 - val_loss: 0.5240 - val_accuracy: 0.7585\n",
      "Epoch 15/25\n",
      "250/250 [==============================] - 87s 347ms/step - loss: 0.3908 - accuracy: 0.8236 - val_loss: 0.4614 - val_accuracy: 0.7945\n",
      "Epoch 16/25\n",
      "250/250 [==============================] - 87s 347ms/step - loss: 0.3735 - accuracy: 0.8290 - val_loss: 0.4606 - val_accuracy: 0.7970\n",
      "Epoch 17/25\n",
      "250/250 [==============================] - 86s 346ms/step - loss: 0.3663 - accuracy: 0.8350 - val_loss: 0.4751 - val_accuracy: 0.7910\n",
      "Epoch 18/25\n",
      "250/250 [==============================] - 57s 227ms/step - loss: 0.3582 - accuracy: 0.8380 - val_loss: 0.4698 - val_accuracy: 0.7955\n",
      "Epoch 19/25\n",
      "250/250 [==============================] - 47s 189ms/step - loss: 0.3480 - accuracy: 0.8454 - val_loss: 0.4534 - val_accuracy: 0.7955\n",
      "Epoch 20/25\n",
      "250/250 [==============================] - 57s 226ms/step - loss: 0.3375 - accuracy: 0.8515 - val_loss: 0.4568 - val_accuracy: 0.7990\n",
      "Epoch 21/25\n",
      "250/250 [==============================] - 52s 206ms/step - loss: 0.3246 - accuracy: 0.8566 - val_loss: 0.5366 - val_accuracy: 0.7770\n",
      "Epoch 22/25\n",
      "250/250 [==============================] - 48s 190ms/step - loss: 0.3090 - accuracy: 0.8610 - val_loss: 0.4914 - val_accuracy: 0.8045\n",
      "Epoch 23/25\n",
      "250/250 [==============================] - 48s 191ms/step - loss: 0.3057 - accuracy: 0.8694 - val_loss: 0.5397 - val_accuracy: 0.7855\n",
      "Epoch 24/25\n",
      "250/250 [==============================] - 48s 191ms/step - loss: 0.2992 - accuracy: 0.8702 - val_loss: 0.5188 - val_accuracy: 0.7950\n",
      "Epoch 25/25\n",
      "250/250 [==============================] - 61s 242ms/step - loss: 0.2878 - accuracy: 0.8789 - val_loss: 0.4953 - val_accuracy: 0.8090\n"
     ]
    },
    {
     "data": {
      "text/plain": [
       "<keras.callbacks.History at 0x2118adcb220>"
      ]
     },
     "execution_count": 12,
     "metadata": {},
     "output_type": "execute_result"
    }
   ],
   "source": [
    "cnn.fit(x=training_set, validation_data =test_set, epochs=25)"
   ]
  },
  {
   "cell_type": "markdown",
   "id": "ad1cc909",
   "metadata": {},
   "source": [
    "# Single Prediction"
   ]
  },
  {
   "cell_type": "code",
   "execution_count": 13,
   "id": "5a5d4f85",
   "metadata": {},
   "outputs": [
    {
     "name": "stdout",
     "output_type": "stream",
     "text": [
      "1/1 [==============================] - 0s 317ms/step\n"
     ]
    }
   ],
   "source": [
    "import numpy as np\n",
    "from tensorflow.keras.preprocessing import image\n",
    "test_image=image.load_img(\"dataset/single_prediction/dog_image.jpg\",target_size=(64,64))\n",
    "test_image=image.img_to_array(test_image)\n",
    "test_image=np.expand_dims(test_image, axis=0)\n",
    "result=cnn.predict(test_image)\n",
    "training_set.class_indices\n",
    "if result[0][0]==1:\n",
    "    prediction=\"Dog\"\n",
    "else:\n",
    "    prediction=\"Cat\"\n"
   ]
  },
  {
   "cell_type": "code",
   "execution_count": 14,
   "id": "98479ea7",
   "metadata": {},
   "outputs": [
    {
     "name": "stdout",
     "output_type": "stream",
     "text": [
      "Dog\n"
     ]
    }
   ],
   "source": [
    "print(prediction)"
   ]
  },
  {
   "cell_type": "code",
   "execution_count": 15,
   "id": "82a85d3b",
   "metadata": {},
   "outputs": [
    {
     "name": "stdout",
     "output_type": "stream",
     "text": [
      "Keras weights file (<HDF5 file \"variables.h5\" (mode r+)>) saving:\n",
      "...layers\\conv2d\n",
      "......vars\n",
      ".........0\n",
      ".........1\n",
      "...layers\\conv2d_1\n",
      "......vars\n",
      ".........0\n",
      ".........1\n",
      "...layers\\dense\n",
      "......vars\n",
      ".........0\n",
      ".........1\n",
      "...layers\\dense_1\n",
      "......vars\n",
      ".........0\n",
      ".........1\n",
      "...layers\\flatten\n",
      "......vars\n",
      "...layers\\max_pooling2d\n",
      "......vars\n",
      "...layers\\max_pooling2d_1\n",
      "......vars\n",
      "...metrics\\mean\n",
      "......vars\n",
      ".........0\n",
      ".........1\n",
      "...metrics\\mean_metric_wrapper\n",
      "......vars\n",
      ".........0\n",
      ".........1\n",
      "...optimizer\n",
      "......vars\n",
      ".........0\n",
      ".........1\n",
      ".........10\n",
      ".........11\n",
      ".........12\n",
      ".........13\n",
      ".........14\n",
      ".........15\n",
      ".........16\n",
      ".........2\n",
      ".........3\n",
      ".........4\n",
      ".........5\n",
      ".........6\n",
      ".........7\n",
      ".........8\n",
      ".........9\n",
      "...vars\n",
      "Keras model archive saving:\n",
      "File Name                                             Modified             Size\n",
      "config.json                                    2023-02-15 19:11:13         3072\n",
      "metadata.json                                  2023-02-15 19:11:13           64\n",
      "variables.h5                                   2023-02-15 19:11:14      9790000\n"
     ]
    }
   ],
   "source": [
    "import pickle\n",
    "pickle.dump(cnn, open(\"model.pkl\", \"wb\"))"
   ]
  },
  {
   "cell_type": "code",
   "execution_count": null,
   "id": "646f8095",
   "metadata": {},
   "outputs": [],
   "source": []
  }
 ],
 "metadata": {
  "kernelspec": {
   "display_name": "Python 3 (ipykernel)",
   "language": "python",
   "name": "python3"
  },
  "language_info": {
   "codemirror_mode": {
    "name": "ipython",
    "version": 3
   },
   "file_extension": ".py",
   "mimetype": "text/x-python",
   "name": "python",
   "nbconvert_exporter": "python",
   "pygments_lexer": "ipython3",
   "version": "3.10.5"
  }
 },
 "nbformat": 4,
 "nbformat_minor": 5
}
